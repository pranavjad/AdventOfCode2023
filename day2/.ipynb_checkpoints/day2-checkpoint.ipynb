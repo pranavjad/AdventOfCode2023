{
 "cells": [
  {
   "cell_type": "code",
   "execution_count": 1,
   "id": "af231baa-e575-45bc-b4bb-025249aec1f7",
   "metadata": {},
   "outputs": [],
   "source": [
    "import pandas as pd"
   ]
  },
  {
   "cell_type": "code",
   "execution_count": 18,
   "id": "515754f0-7d81-41af-b6f1-ab8fd9f361f3",
   "metadata": {},
   "outputs": [],
   "source": [
    "df = pd.read_table(\"input.txt\", header=None, sep=\":\")\n",
    "df.columns=[\"c1\", \"c2\"]"
   ]
  },
  {
   "cell_type": "code",
   "execution_count": 54,
   "id": "35bf5381-439b-4694-9ae5-504c1a605f07",
   "metadata": {},
   "outputs": [
    {
     "data": {
      "text/html": [
       "<div>\n",
       "<style scoped>\n",
       "    .dataframe tbody tr th:only-of-type {\n",
       "        vertical-align: middle;\n",
       "    }\n",
       "\n",
       "    .dataframe tbody tr th {\n",
       "        vertical-align: top;\n",
       "    }\n",
       "\n",
       "    .dataframe thead th {\n",
       "        text-align: right;\n",
       "    }\n",
       "</style>\n",
       "<table border=\"1\" class=\"dataframe\">\n",
       "  <thead>\n",
       "    <tr style=\"text-align: right;\">\n",
       "      <th></th>\n",
       "      <th>c1</th>\n",
       "      <th>c2</th>\n",
       "    </tr>\n",
       "  </thead>\n",
       "  <tbody>\n",
       "    <tr>\n",
       "      <th>0</th>\n",
       "      <td>Game 1</td>\n",
       "      <td>1 red, 3 blue, 11 green; 1 blue, 5 red; 3 blu...</td>\n",
       "    </tr>\n",
       "    <tr>\n",
       "      <th>1</th>\n",
       "      <td>Game 2</td>\n",
       "      <td>3 red, 13 blue, 5 green; 14 green, 14 blue; 9...</td>\n",
       "    </tr>\n",
       "    <tr>\n",
       "      <th>2</th>\n",
       "      <td>Game 3</td>\n",
       "      <td>17 blue, 5 red; 3 red, 11 green, 17 blue; 1 r...</td>\n",
       "    </tr>\n",
       "    <tr>\n",
       "      <th>3</th>\n",
       "      <td>Game 4</td>\n",
       "      <td>14 green, 14 red, 1 blue; 15 red, 13 green, 1...</td>\n",
       "    </tr>\n",
       "    <tr>\n",
       "      <th>4</th>\n",
       "      <td>Game 5</td>\n",
       "      <td>3 green, 1 blue, 3 red; 6 red, 2 green, 2 blu...</td>\n",
       "    </tr>\n",
       "    <tr>\n",
       "      <th>...</th>\n",
       "      <td>...</td>\n",
       "      <td>...</td>\n",
       "    </tr>\n",
       "    <tr>\n",
       "      <th>95</th>\n",
       "      <td>Game 96</td>\n",
       "      <td>15 blue, 7 green, 3 red; 5 red, 7 green, 17 b...</td>\n",
       "    </tr>\n",
       "    <tr>\n",
       "      <th>96</th>\n",
       "      <td>Game 97</td>\n",
       "      <td>5 red, 2 green; 8 red; 1 blue, 7 green, 2 red...</td>\n",
       "    </tr>\n",
       "    <tr>\n",
       "      <th>97</th>\n",
       "      <td>Game 98</td>\n",
       "      <td>6 green, 1 blue, 1 red; 3 green, 3 red; 1 blu...</td>\n",
       "    </tr>\n",
       "    <tr>\n",
       "      <th>98</th>\n",
       "      <td>Game 99</td>\n",
       "      <td>16 red, 5 blue, 9 green; 2 green, 7 blue, 2 r...</td>\n",
       "    </tr>\n",
       "    <tr>\n",
       "      <th>99</th>\n",
       "      <td>Game 100</td>\n",
       "      <td>16 blue, 12 red, 3 green; 2 green, 7 blue; 5 ...</td>\n",
       "    </tr>\n",
       "  </tbody>\n",
       "</table>\n",
       "<p>100 rows × 2 columns</p>\n",
       "</div>"
      ],
      "text/plain": [
       "          c1                                                 c2\n",
       "0     Game 1   1 red, 3 blue, 11 green; 1 blue, 5 red; 3 blu...\n",
       "1     Game 2   3 red, 13 blue, 5 green; 14 green, 14 blue; 9...\n",
       "2     Game 3   17 blue, 5 red; 3 red, 11 green, 17 blue; 1 r...\n",
       "3     Game 4   14 green, 14 red, 1 blue; 15 red, 13 green, 1...\n",
       "4     Game 5   3 green, 1 blue, 3 red; 6 red, 2 green, 2 blu...\n",
       "..       ...                                                ...\n",
       "95   Game 96   15 blue, 7 green, 3 red; 5 red, 7 green, 17 b...\n",
       "96   Game 97   5 red, 2 green; 8 red; 1 blue, 7 green, 2 red...\n",
       "97   Game 98   6 green, 1 blue, 1 red; 3 green, 3 red; 1 blu...\n",
       "98   Game 99   16 red, 5 blue, 9 green; 2 green, 7 blue, 2 r...\n",
       "99  Game 100   16 blue, 12 red, 3 green; 2 green, 7 blue; 5 ...\n",
       "\n",
       "[100 rows x 2 columns]"
      ]
     },
     "execution_count": 54,
     "metadata": {},
     "output_type": "execute_result"
    }
   ],
   "source": [
    "df"
   ]
  },
  {
   "cell_type": "code",
   "execution_count": 19,
   "id": "2c4475bb-95d1-4800-a137-2cc12546e83a",
   "metadata": {},
   "outputs": [],
   "source": [
    "# df = df.iloc[:, 1].str.split(';', expand=True)"
   ]
  },
  {
   "cell_type": "code",
   "execution_count": 91,
   "id": "b07d44b0-5ffd-499c-b2a3-70a59183456e",
   "metadata": {},
   "outputs": [
    {
     "data": {
      "text/plain": [
       "0            [1 red, 5 red, 13 red, 6 red, 16 red]\n",
       "1                     [3 red, 3 red, 3 red, 2 red]\n",
       "2     [5 red, 3 red, 1 red, 1 red, 10 red, 12 red]\n",
       "3                         [14 red, 15 red, 15 red]\n",
       "4            [3 red, 6 red, 12 red, 9 red, 10 red]\n",
       "                          ...                     \n",
       "95                    [3 red, 5 red, 6 red, 4 red]\n",
       "96                    [5 red, 8 red, 2 red, 7 red]\n",
       "97                           [1 red, 3 red, 4 red]\n",
       "98                  [16 red, 2 red, 9 red, 13 red]\n",
       "99                   [12 red, 6 red, 5 red, 9 red]\n",
       "Name: c2, Length: 100, dtype: object"
      ]
     },
     "execution_count": 91,
     "metadata": {},
     "output_type": "execute_result"
    }
   ],
   "source": [
    "df[\"c2\"].str.findall(\"[0-9]+ red\")"
   ]
  },
  {
   "cell_type": "code",
   "execution_count": 128,
   "id": "ee5b706e-b145-4e3e-be69-490b589eabe2",
   "metadata": {},
   "outputs": [],
   "source": [
    "red = df[\"c2\"].str.findall(\"[0-9]+ red\").str.join(\",\").replace(\"[a-z]\", \"\", regex=True).str.split(\" ,\").apply(lambda x: any([int(n) > 12 for n in x]))"
   ]
  },
  {
   "cell_type": "code",
   "execution_count": 129,
   "id": "4d7b56bc-2f4f-4786-aecc-76a89dad6041",
   "metadata": {},
   "outputs": [],
   "source": [
    "green = df[\"c2\"].str.findall(\"[0-9]+ green\").str.join(\",\").replace(\"[a-z]\", \"\", regex=True).str.split(\" ,\").apply(lambda x: any([int(n) > 13 for n in x]))"
   ]
  },
  {
   "cell_type": "code",
   "execution_count": 130,
   "id": "c7463414-3ad1-434e-b85f-1c955d056ed6",
   "metadata": {},
   "outputs": [],
   "source": [
    "blue = df[\"c2\"].str.findall(\"[0-9]+ blue\").str.join(\",\").replace(\"[a-z]\", \"\", regex=True).str.split(\" ,\").apply(lambda x: any([int(n) > 14 for n in x]))"
   ]
  },
  {
   "cell_type": "code",
   "execution_count": 138,
   "id": "ce194be5-7d3d-439c-8eb5-e74d9eb5fa2b",
   "metadata": {},
   "outputs": [],
   "source": [
    "res = pd.DataFrame(red | green | blue)\n",
    "res[\"game\"] = list(res.index)\n",
    "res[\"game\"] += 1"
   ]
  },
  {
   "cell_type": "code",
   "execution_count": 139,
   "id": "5e7e606f-4952-4f33-b1b2-b3c3da444229",
   "metadata": {},
   "outputs": [
    {
     "data": {
      "text/plain": [
       "3119"
      ]
     },
     "execution_count": 139,
     "metadata": {},
     "output_type": "execute_result"
    }
   ],
   "source": [
    "res.loc[res[\"c2\"] == True, \"game\"].sum()"
   ]
  },
  {
   "cell_type": "code",
   "execution_count": null,
   "id": "137f8272-5c83-4034-a271-8b9e9ceb728f",
   "metadata": {},
   "outputs": [],
   "source": []
  }
 ],
 "metadata": {
  "kernelspec": {
   "display_name": "Python 3 (ipykernel)",
   "language": "python",
   "name": "python3"
  },
  "language_info": {
   "codemirror_mode": {
    "name": "ipython",
    "version": 3
   },
   "file_extension": ".py",
   "mimetype": "text/x-python",
   "name": "python",
   "nbconvert_exporter": "python",
   "pygments_lexer": "ipython3",
   "version": "3.9.6"
  }
 },
 "nbformat": 4,
 "nbformat_minor": 5
}
