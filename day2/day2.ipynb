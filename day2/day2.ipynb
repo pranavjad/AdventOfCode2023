{
 "cells": [
  {
   "cell_type": "markdown",
   "id": "463aa761-3fae-496a-81ba-c082e552f84b",
   "metadata": {},
   "source": [
    "## Part 1"
   ]
  },
  {
   "cell_type": "code",
   "execution_count": 1,
   "id": "af231baa-e575-45bc-b4bb-025249aec1f7",
   "metadata": {},
   "outputs": [],
   "source": [
    "import pandas as pd"
   ]
  },
  {
   "cell_type": "code",
   "execution_count": 140,
   "id": "515754f0-7d81-41af-b6f1-ab8fd9f361f3",
   "metadata": {},
   "outputs": [],
   "source": [
    "df = pd.read_table(\"input.txt\", header=None, sep=\":\")\n",
    "df.columns=[\"c1\", \"c2\"]"
   ]
  },
  {
   "cell_type": "code",
   "execution_count": 155,
   "id": "ee5b706e-b145-4e3e-be69-490b589eabe2",
   "metadata": {},
   "outputs": [],
   "source": [
    "red = df[\"c2\"].str.findall(\"[0-9]+ red\").str.join(\",\").replace(\"[a-z]\", \"\", regex=True).str.split(\" ,\").apply(lambda x: not any([int(n) > 12 for n in x]))"
   ]
  },
  {
   "cell_type": "code",
   "execution_count": 156,
   "id": "4d7b56bc-2f4f-4786-aecc-76a89dad6041",
   "metadata": {},
   "outputs": [],
   "source": [
    "green = df[\"c2\"].str.findall(\"[0-9]+ green\").str.join(\",\").replace(\"[a-z]\", \"\", regex=True).str.split(\" ,\").apply(lambda x: not any([int(n) > 13 for n in x]))"
   ]
  },
  {
   "cell_type": "code",
   "execution_count": 157,
   "id": "c7463414-3ad1-434e-b85f-1c955d056ed6",
   "metadata": {},
   "outputs": [],
   "source": [
    "blue = df[\"c2\"].str.findall(\"[0-9]+ blue\").str.join(\",\").replace(\"[a-z]\", \"\", regex=True).str.split(\" ,\").apply(lambda x: not any([int(n) > 14 for n in x]))"
   ]
  },
  {
   "cell_type": "code",
   "execution_count": 159,
   "id": "ce194be5-7d3d-439c-8eb5-e74d9eb5fa2b",
   "metadata": {},
   "outputs": [],
   "source": [
    "res = pd.DataFrame(red & green & blue)\n",
    "res[\"game\"] = list(res.index)\n",
    "res[\"game\"] += 1"
   ]
  },
  {
   "cell_type": "code",
   "execution_count": 160,
   "id": "5e7e606f-4952-4f33-b1b2-b3c3da444229",
   "metadata": {},
   "outputs": [
    {
     "data": {
      "text/plain": [
       "1931"
      ]
     },
     "execution_count": 160,
     "metadata": {},
     "output_type": "execute_result"
    }
   ],
   "source": [
    "res.loc[res[\"c2\"] == True, \"game\"].sum()"
   ]
  },
  {
   "cell_type": "markdown",
   "id": "084344ea-2864-4ee9-b385-71ebe1c08926",
   "metadata": {},
   "source": [
    "## Part 2"
   ]
  },
  {
   "cell_type": "code",
   "execution_count": 171,
   "id": "1a280400-2921-4959-8b3b-ef61450dc2d8",
   "metadata": {},
   "outputs": [],
   "source": [
    "red = df[\"c2\"].str.findall(\"[0-9]+ red\").str.join(\",\").replace(\"[a-z]\", \"\", regex=True).str.split(\" ,\").apply(lambda x: max([int(n) for n in x]))"
   ]
  },
  {
   "cell_type": "code",
   "execution_count": 172,
   "id": "3d0ca8dd-e6d6-4157-9587-01cd7067dced",
   "metadata": {},
   "outputs": [],
   "source": [
    "green = df[\"c2\"].str.findall(\"[0-9]+ green\").str.join(\",\").replace(\"[a-z]\", \"\", regex=True).str.split(\" ,\").apply(lambda x: max([int(n) for n in x]))"
   ]
  },
  {
   "cell_type": "code",
   "execution_count": 173,
   "id": "d34c58be-4fa2-46a7-bc0c-e198e6e973b4",
   "metadata": {},
   "outputs": [],
   "source": [
    "blue = df[\"c2\"].str.findall(\"[0-9]+ blue\").str.join(\",\").replace(\"[a-z]\", \"\", regex=True).str.split(\" ,\").apply(lambda x: max([int(n) for n in x]))"
   ]
  },
  {
   "cell_type": "code",
   "execution_count": 177,
   "id": "decd0b39-4dfb-4a51-856b-74b551f6426f",
   "metadata": {},
   "outputs": [
    {
     "data": {
      "text/plain": [
       "83105"
      ]
     },
     "execution_count": 177,
     "metadata": {},
     "output_type": "execute_result"
    }
   ],
   "source": [
    "(red * green * blue).sum()"
   ]
  },
  {
   "cell_type": "code",
   "execution_count": null,
   "id": "b43aefca-fd56-43b2-9010-272fbe4f638c",
   "metadata": {},
   "outputs": [],
   "source": []
  }
 ],
 "metadata": {
  "kernelspec": {
   "display_name": "Python 3 (ipykernel)",
   "language": "python",
   "name": "python3"
  },
  "language_info": {
   "codemirror_mode": {
    "name": "ipython",
    "version": 3
   },
   "file_extension": ".py",
   "mimetype": "text/x-python",
   "name": "python",
   "nbconvert_exporter": "python",
   "pygments_lexer": "ipython3",
   "version": "3.9.6"
  }
 },
 "nbformat": 4,
 "nbformat_minor": 5
}
