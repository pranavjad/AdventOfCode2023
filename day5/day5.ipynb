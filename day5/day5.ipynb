{
 "cells": [
  {
   "cell_type": "code",
   "execution_count": null,
   "id": "a2f33dcc-7ba7-431c-a213-f273670229c7",
   "metadata": {},
   "outputs": [],
   "source": [
    "import pandas as pd\n",
    "import numpy as np"
   ]
  },
  {
   "cell_type": "code",
   "execution_count": null,
   "id": "f8d0755d-5414-47a5-b89a-639dd4139ecf",
   "metadata": {},
   "outputs": [],
   "source": [
    "df = pd.read_table(\"input.txt\", header=None)"
   ]
  },
  {
   "cell_type": "code",
   "execution_count": null,
   "id": "573c31b6-1042-4666-bb78-964a01198bcb",
   "metadata": {},
   "outputs": [],
   "source": [
    "seeds = np.array(df[0][0].split(':')[1].split()).astype(int)"
   ]
  },
  {
   "cell_type": "code",
   "execution_count": null,
   "id": "00a70cb6-2385-4bb6-bdbb-88a89114e14c",
   "metadata": {},
   "outputs": [],
   "source": [
    "seeds"
   ]
  },
  {
   "cell_type": "code",
   "execution_count": null,
   "id": "e8afc5cd-adae-464d-a5ed-8c1641ee39c7",
   "metadata": {},
   "outputs": [],
   "source": [
    "maps = [[] for i in range(7)]\n",
    "mapIdx = -1\n",
    "for line in df[0][1:].to_numpy():\n",
    "    if \"map\" in line:\n",
    "        mapIdx += 1\n",
    "    else:\n",
    "        maps[mapIdx] += [np.array(line.split()).astype(int)]\n",
    "maps = [np.array(map) for map in maps]"
   ]
  },
  {
   "cell_type": "code",
   "execution_count": null,
   "id": "a4b04296-0ef3-44c9-b533-e68ce68dff4f",
   "metadata": {},
   "outputs": [],
   "source": [
    "def process(seed):\n",
    "    for map in maps:\n",
    "        for rule in map:\n",
    "            dest, source, r = rule\n",
    "            ruleFound = False\n",
    "            if seed >= source and seed < source + r:\n",
    "                seed = dest + (seed - source)\n",
    "                # print(rule, seed)\n",
    "                ruleFound = True\n",
    "            if ruleFound: break\n",
    "    return seed"
   ]
  },
  {
   "cell_type": "code",
   "execution_count": null,
   "id": "2b30ad98-faeb-45bb-99e8-69a22715239e",
   "metadata": {},
   "outputs": [],
   "source": [
    "min([process(seed) for seed in seeds])"
   ]
  },
  {
   "cell_type": "markdown",
   "id": "38d89599-f4d7-41dd-b90d-8688d4efccef",
   "metadata": {},
   "source": [
    "## Part 2"
   ]
  },
  {
   "cell_type": "code",
   "execution_count": null,
   "id": "22448d4d-65c1-4daf-b54e-d4b09643782c",
   "metadata": {},
   "outputs": [],
   "source": [
    "def splitsearch(src, rng):\n",
    "    l = src\n",
    "    r = src + rng - 1\n",
    "    src_p = process(src)\n",
    "    # print(src_p)\n",
    "    while l <= r:\n",
    "        mid = (l + r) // 2\n",
    "        # print(l, r, mid)\n",
    "        # print(mid - l, process(mid) - src_p)\n",
    "        if (mid - src) == (process(mid) - src_p):\n",
    "            l = mid + 1\n",
    "        else:\n",
    "            r = mid - 1\n",
    "        # print(l, r, mid)\n",
    "        # print(\"---\")\n",
    "    return mid"
   ]
  },
  {
   "cell_type": "code",
   "execution_count": null,
   "id": "a80a3b0e-392c-429d-804e-ec0beff70303",
   "metadata": {},
   "outputs": [],
   "source": [
    "def minsplit(low, high):\n",
    "    res = float('inf')\n",
    "    while low < high:\n",
    "        split = splitsearch(low, high - low + 1)\n",
    "        # print(split)\n",
    "        res = min(res, process(split), process(split + 1), process(split - 1))\n",
    "        low = split + 1\n",
    "    return res"
   ]
  },
  {
   "cell_type": "code",
   "execution_count": null,
   "id": "6a5af44b-94e6-4a56-b940-06d29c17ae4c",
   "metadata": {},
   "outputs": [],
   "source": [
    "ans = float('inf')\n",
    "for i in range(0, len(seeds), 2):\n",
    "    start = seeds[i]\n",
    "    r = seeds[i + 1]\n",
    "    ans = min(ans, minsplit(start, start + r - 1))\n"
   ]
  },
  {
   "cell_type": "code",
   "execution_count": null,
   "id": "7c9059d6-b898-4b8b-8be1-a61c6541551a",
   "metadata": {},
   "outputs": [],
   "source": [
    "ans"
   ]
  },
  {
   "cell_type": "code",
   "execution_count": null,
   "id": "e6eb4836-9726-4fa3-bef4-20565ddde582",
   "metadata": {},
   "outputs": [],
   "source": []
  }
 ],
 "metadata": {
  "kernelspec": {
   "display_name": "Python 3 (ipykernel)",
   "language": "python",
   "name": "python3"
  },
  "language_info": {
   "codemirror_mode": {
    "name": "ipython",
    "version": 3
   },
   "file_extension": ".py",
   "mimetype": "text/x-python",
   "name": "python",
   "nbconvert_exporter": "python",
   "pygments_lexer": "ipython3",
   "version": "3.9.6"
  }
 },
 "nbformat": 4,
 "nbformat_minor": 5
}
