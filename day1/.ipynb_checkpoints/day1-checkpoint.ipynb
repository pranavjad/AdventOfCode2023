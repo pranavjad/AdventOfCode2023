{
 "cells": [
  {
   "cell_type": "markdown",
   "id": "26923a2d-af13-490a-b5ac-3b6e4aca07de",
   "metadata": {},
   "source": [
    "## Part 1"
   ]
  },
  {
   "cell_type": "code",
   "execution_count": 350,
   "id": "7b436871-628c-4a0b-9803-9e9042e62da8",
   "metadata": {},
   "outputs": [],
   "source": [
    "import pandas as pd"
   ]
  },
  {
   "cell_type": "code",
   "execution_count": 351,
   "id": "4cace022-1fbd-4351-b48b-daca64e70bc9",
   "metadata": {},
   "outputs": [],
   "source": [
    "df = pd.read_table(\"input.txt\", header=None)\n",
    "df.columns = [\"num\"]"
   ]
  },
  {
   "cell_type": "code",
   "execution_count": 352,
   "id": "bec1355e-e352-4769-9621-7cc8a23d797f",
   "metadata": {},
   "outputs": [],
   "source": [
    "df[\"numstr\"] = df[\"num\"].astype(str)"
   ]
  },
  {
   "cell_type": "code",
   "execution_count": 353,
   "id": "c80fd355-d70f-4a5d-a4a8-4dea3eaf3fa6",
   "metadata": {},
   "outputs": [
    {
     "data": {
      "text/plain": [
       "num        int64\n",
       "numstr    object\n",
       "dtype: object"
      ]
     },
     "execution_count": 353,
     "metadata": {},
     "output_type": "execute_result"
    }
   ],
   "source": [
    "df.dtypes"
   ]
  },
  {
   "cell_type": "code",
   "execution_count": 354,
   "id": "13e4f012-338f-4b9c-8a5d-97463735ef58",
   "metadata": {},
   "outputs": [],
   "source": [
    "df.loc[df[\"numstr\"].str.len() > 2, \"numstr\"] = (df[\"numstr\"].str[0] + df[\"numstr\"].str[-1])"
   ]
  },
  {
   "cell_type": "code",
   "execution_count": 355,
   "id": "163ece7e-d843-4cf5-8e6b-fd31c23725f1",
   "metadata": {},
   "outputs": [
    {
     "data": {
      "text/plain": [
       "Series([], Name: numstr, dtype: object)"
      ]
     },
     "execution_count": 355,
     "metadata": {},
     "output_type": "execute_result"
    }
   ],
   "source": [
    "df.loc[df[\"numstr\"].str.len() > 2, \"numstr\"]"
   ]
  },
  {
   "cell_type": "code",
   "execution_count": 356,
   "id": "59e69ca0-57f1-489c-b65b-ca38c897b500",
   "metadata": {},
   "outputs": [],
   "source": [
    "df.loc[df[\"numstr\"].str.len() == 1, \"numstr\"] = (df[\"numstr\"].str[0] * 2)"
   ]
  },
  {
   "cell_type": "code",
   "execution_count": 357,
   "id": "853b8046-9140-4c9d-a68d-76543db7dff4",
   "metadata": {},
   "outputs": [],
   "source": [
    "df[\"final\"] = df[\"numstr\"].astype(int)"
   ]
  },
  {
   "cell_type": "code",
   "execution_count": 358,
   "id": "422ae8e2-f932-4d5c-a25b-4b157fef7cf9",
   "metadata": {},
   "outputs": [
    {
     "data": {
      "text/plain": [
       "54953"
      ]
     },
     "execution_count": 358,
     "metadata": {},
     "output_type": "execute_result"
    }
   ],
   "source": [
    "df[\"final\"].sum()"
   ]
  },
  {
   "cell_type": "markdown",
   "id": "0c64df80-9eb5-4f4a-aaa9-80c70a25715a",
   "metadata": {},
   "source": [
    "## Part 2"
   ]
  },
  {
   "cell_type": "code",
   "execution_count": 334,
   "id": "a2e938e9-9c23-472e-8d5e-7fe654a5a77a",
   "metadata": {},
   "outputs": [],
   "source": [
    "df1 = pd.read_table(\"input1.txt\", header=None)\n",
    "df1.columns = [\"line\"]\n",
    "numbers = [[\"zero\", \"one\", \"two\", \"three\", \"four\", \"five\", \"six\", \"seven\", \"eight\", \"nine\"],\n",
    "          [0, 1, 2, 3, 4, 5, 6, 7, 8, 9]\n",
    "]\n",
    "replaceDict = {numbers[0][i]:numbers[1][i] for i in range(10)}"
   ]
  },
  {
   "cell_type": "code",
   "execution_count": 335,
   "id": "cde7af71-1b2b-482b-87d0-ce23515012c9",
   "metadata": {},
   "outputs": [
    {
     "data": {
      "text/html": [
       "<div>\n",
       "<style scoped>\n",
       "    .dataframe tbody tr th:only-of-type {\n",
       "        vertical-align: middle;\n",
       "    }\n",
       "\n",
       "    .dataframe tbody tr th {\n",
       "        vertical-align: top;\n",
       "    }\n",
       "\n",
       "    .dataframe thead th {\n",
       "        text-align: right;\n",
       "    }\n",
       "</style>\n",
       "<table border=\"1\" class=\"dataframe\">\n",
       "  <thead>\n",
       "    <tr style=\"text-align: right;\">\n",
       "      <th></th>\n",
       "      <th>line</th>\n",
       "    </tr>\n",
       "  </thead>\n",
       "  <tbody>\n",
       "    <tr>\n",
       "      <th>0</th>\n",
       "      <td>9cbncbxclbvkmfzdnldc</td>\n",
       "    </tr>\n",
       "    <tr>\n",
       "      <th>1</th>\n",
       "      <td>jjn1drdffhs</td>\n",
       "    </tr>\n",
       "    <tr>\n",
       "      <th>2</th>\n",
       "      <td>3six7</td>\n",
       "    </tr>\n",
       "    <tr>\n",
       "      <th>3</th>\n",
       "      <td>38rgtnqqxtc</td>\n",
       "    </tr>\n",
       "    <tr>\n",
       "      <th>4</th>\n",
       "      <td>rxszdkkv3j8kjhbm</td>\n",
       "    </tr>\n",
       "    <tr>\n",
       "      <th>...</th>\n",
       "      <td>...</td>\n",
       "    </tr>\n",
       "    <tr>\n",
       "      <th>995</th>\n",
       "      <td>2two4</td>\n",
       "    </tr>\n",
       "    <tr>\n",
       "      <th>996</th>\n",
       "      <td>lkrjlsz7mgv9525p1</td>\n",
       "    </tr>\n",
       "    <tr>\n",
       "      <th>997</th>\n",
       "      <td>nineonebmfdxxfqvvkrblrd9</td>\n",
       "    </tr>\n",
       "    <tr>\n",
       "      <th>998</th>\n",
       "      <td>5six6cvmqttbsxkzg</td>\n",
       "    </tr>\n",
       "    <tr>\n",
       "      <th>999</th>\n",
       "      <td>42seven13four4</td>\n",
       "    </tr>\n",
       "  </tbody>\n",
       "</table>\n",
       "<p>1000 rows × 1 columns</p>\n",
       "</div>"
      ],
      "text/plain": [
       "                         line\n",
       "0        9cbncbxclbvkmfzdnldc\n",
       "1                 jjn1drdffhs\n",
       "2                       3six7\n",
       "3                 38rgtnqqxtc\n",
       "4            rxszdkkv3j8kjhbm\n",
       "..                        ...\n",
       "995                     2two4\n",
       "996         lkrjlsz7mgv9525p1\n",
       "997  nineonebmfdxxfqvvkrblrd9\n",
       "998         5six6cvmqttbsxkzg\n",
       "999            42seven13four4\n",
       "\n",
       "[1000 rows x 1 columns]"
      ]
     },
     "execution_count": 335,
     "metadata": {},
     "output_type": "execute_result"
    }
   ],
   "source": [
    "df1"
   ]
  },
  {
   "cell_type": "code",
   "execution_count": 336,
   "id": "874d8ca4-6645-44c5-b450-69f94941c37e",
   "metadata": {},
   "outputs": [],
   "source": [
    "s = df1[\"line\"].str.findall(\"(?=([0-9]|one|two|three|four|five|six|seven|eight|nine))\")"
   ]
  },
  {
   "cell_type": "code",
   "execution_count": 337,
   "id": "4a91428a-0188-4ca8-84ee-0a1e6adebaf4",
   "metadata": {},
   "outputs": [],
   "source": [
    "f = s.str[0].replace(replaceDict).astype(str) + s.str[-1].replace(replaceDict).astype(str)"
   ]
  },
  {
   "cell_type": "code",
   "execution_count": 338,
   "id": "d90e2c27-ba60-47e8-bce8-f583de29d7a1",
   "metadata": {},
   "outputs": [
    {
     "data": {
      "text/plain": [
       "0      99\n",
       "1      11\n",
       "2      37\n",
       "3      38\n",
       "4      38\n",
       "       ..\n",
       "995    24\n",
       "996    71\n",
       "997    99\n",
       "998    56\n",
       "999    44\n",
       "Name: line, Length: 1000, dtype: object"
      ]
     },
     "execution_count": 338,
     "metadata": {},
     "output_type": "execute_result"
    }
   ],
   "source": [
    "f"
   ]
  },
  {
   "cell_type": "code",
   "execution_count": 339,
   "id": "7e6ce1ab-7b1a-4147-b5e8-b67987c0f9d1",
   "metadata": {},
   "outputs": [
    {
     "data": {
      "text/plain": [
       "53868"
      ]
     },
     "execution_count": 339,
     "metadata": {},
     "output_type": "execute_result"
    }
   ],
   "source": [
    "f.astype(int).sum()"
   ]
  }
 ],
 "metadata": {
  "kernelspec": {
   "display_name": "Python 3 (ipykernel)",
   "language": "python",
   "name": "python3"
  },
  "language_info": {
   "codemirror_mode": {
    "name": "ipython",
    "version": 3
   },
   "file_extension": ".py",
   "mimetype": "text/x-python",
   "name": "python",
   "nbconvert_exporter": "python",
   "pygments_lexer": "ipython3",
   "version": "3.9.6"
  }
 },
 "nbformat": 4,
 "nbformat_minor": 5
}
