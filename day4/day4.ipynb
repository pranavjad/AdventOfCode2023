{
 "cells": [
  {
   "cell_type": "markdown",
   "id": "2b67a469-428b-4c24-a35f-c5aaa7dd84f5",
   "metadata": {},
   "source": [
    "## Part 1"
   ]
  },
  {
   "cell_type": "code",
   "execution_count": 101,
   "id": "aff173b9-36ac-4401-ad9b-ac80627d3722",
   "metadata": {},
   "outputs": [],
   "source": [
    "import pandas as pd\n",
    "import numpy as np"
   ]
  },
  {
   "cell_type": "code",
   "execution_count": 108,
   "id": "06fbbb3a-9705-4c99-86e8-6e9133db53e8",
   "metadata": {},
   "outputs": [],
   "source": [
    "df = pd.read_table(\"input.txt\", header=None)"
   ]
  },
  {
   "cell_type": "code",
   "execution_count": 109,
   "id": "c87f835d-af9d-45ca-afbb-f81ba423f004",
   "metadata": {},
   "outputs": [],
   "source": [
    "df = df[0].str.split(\":\").str[1].str.split(\"|\", expand=True)\n",
    "df[0] = df[0].str.split()\n",
    "df[1] = df[1].str.split()"
   ]
  },
  {
   "cell_type": "code",
   "execution_count": 110,
   "id": "ef4793e3-50c7-44fb-8653-bc3698ac18af",
   "metadata": {},
   "outputs": [],
   "source": [
    "df[3] = [np.intersect1d(df[0][i], df[1][i]) for i in range(df.shape[0])]"
   ]
  },
  {
   "cell_type": "code",
   "execution_count": 111,
   "id": "c62312c4-13f2-4dda-831f-bc018c9df840",
   "metadata": {},
   "outputs": [],
   "source": [
    "df[3] = (df[3].str.len() - 1)"
   ]
  },
  {
   "cell_type": "code",
   "execution_count": 112,
   "id": "f3a3f18f-fdfa-4019-bad7-acfd0daee7d8",
   "metadata": {},
   "outputs": [],
   "source": [
    "ans = sum(np.floor(2.0 ** df[3]))"
   ]
  },
  {
   "cell_type": "code",
   "execution_count": 113,
   "id": "46959637-14ee-4b78-9b7f-79e09a6acb88",
   "metadata": {},
   "outputs": [
    {
     "data": {
      "text/plain": [
       "22193.0"
      ]
     },
     "execution_count": 113,
     "metadata": {},
     "output_type": "execute_result"
    }
   ],
   "source": [
    "ans"
   ]
  },
  {
   "cell_type": "markdown",
   "id": "762b029c-4fc6-4292-b2cf-e30744b27854",
   "metadata": {},
   "source": [
    "### Part 2"
   ]
  },
  {
   "cell_type": "code",
   "execution_count": 143,
   "id": "4cb540ac-212d-4e08-8ac0-ca88afc95b89",
   "metadata": {},
   "outputs": [],
   "source": [
    "df = pd.read_table(\"input.txt\", header=None)\n",
    "df = df[0].str.split(\":\").str[1].str.split(\"|\", expand=True)\n",
    "df[0] = df[0].str.split()\n",
    "df[1] = df[1].str.split()\n",
    "df[3] = [len(np.intersect1d(df[0][i], df[1][i])) for i in range(df.shape[0])]"
   ]
  },
  {
   "cell_type": "code",
   "execution_count": 144,
   "id": "e14ed8c1-2d4f-424f-9155-19a9d27802f3",
   "metadata": {},
   "outputs": [
    {
     "data": {
      "text/plain": [
       "0      10\n",
       "1      10\n",
       "2      10\n",
       "3       2\n",
       "4      10\n",
       "       ..\n",
       "192     1\n",
       "193     2\n",
       "194     1\n",
       "195     1\n",
       "196     0\n",
       "Name: 3, Length: 197, dtype: int64"
      ]
     },
     "execution_count": 144,
     "metadata": {},
     "output_type": "execute_result"
    }
   ],
   "source": [
    "df[3]"
   ]
  },
  {
   "cell_type": "code",
   "execution_count": 145,
   "id": "3520d7d8-1c34-462e-814d-740438cec6e3",
   "metadata": {},
   "outputs": [
    {
     "data": {
      "text/plain": [
       "5625994"
      ]
     },
     "execution_count": 145,
     "metadata": {},
     "output_type": "execute_result"
    }
   ],
   "source": [
    "memo = [-1 for i in range(len(df[3]))]\n",
    "def process(card):\n",
    "    if card >= len(df[3]): return 0\n",
    "    if memo[card] >= 0: return memo[card]\n",
    "    contribution = df[3][card]\n",
    "    for o in range(card + 1, card + df[3][card] + 1):\n",
    "        contribution += process(o)\n",
    "    memo[card] = contribution\n",
    "    return contribution\n",
    "\n",
    "total = 0\n",
    "for i in range(len(df[3])):\n",
    "    total += process(i) + 1\n",
    "total"
   ]
  },
  {
   "cell_type": "code",
   "execution_count": null,
   "id": "9d81008e-d9b3-4d8d-b96b-6bebad5dcf9b",
   "metadata": {},
   "outputs": [],
   "source": []
  }
 ],
 "metadata": {
  "kernelspec": {
   "display_name": "Python 3 (ipykernel)",
   "language": "python",
   "name": "python3"
  },
  "language_info": {
   "codemirror_mode": {
    "name": "ipython",
    "version": 3
   },
   "file_extension": ".py",
   "mimetype": "text/x-python",
   "name": "python",
   "nbconvert_exporter": "python",
   "pygments_lexer": "ipython3",
   "version": "3.9.6"
  }
 },
 "nbformat": 4,
 "nbformat_minor": 5
}
