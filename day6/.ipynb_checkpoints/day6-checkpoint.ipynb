{
 "cells": [
  {
   "cell_type": "code",
   "execution_count": 25,
   "id": "ca4dfee1-50d7-4931-9cf3-975da3464fed",
   "metadata": {},
   "outputs": [],
   "source": [
    "import pandas as pd\n",
    "import numpy as np"
   ]
  },
  {
   "cell_type": "code",
   "execution_count": 26,
   "id": "aac445e4-262b-4910-a533-60f05e7fdb57",
   "metadata": {},
   "outputs": [],
   "source": [
    "df = pd.read_table(\"input.txt\", header=None)"
   ]
  },
  {
   "cell_type": "code",
   "execution_count": 27,
   "id": "d05e47db-1d30-4e64-8584-eb928587171d",
   "metadata": {},
   "outputs": [],
   "source": [
    "data = df[0].str.split(\":\").str[1].str.split().to_numpy()\n",
    "data = np.array([np.array(x).astype(int) for x in data])"
   ]
  },
  {
   "cell_type": "code",
   "execution_count": 28,
   "id": "25b76edd-4d86-4f4f-af1f-ee416dc17060",
   "metadata": {},
   "outputs": [
    {
     "data": {
      "text/plain": [
       "array([[  40,   70,   98,   79],\n",
       "       [ 215, 1051, 2147, 1005]])"
      ]
     },
     "execution_count": 28,
     "metadata": {},
     "output_type": "execute_result"
    }
   ],
   "source": [
    "data"
   ]
  },
  {
   "cell_type": "code",
   "execution_count": 38,
   "id": "b2009bdb-f0d6-4493-8dd3-b4665b4298e6",
   "metadata": {},
   "outputs": [],
   "source": [
    "ans = 1\n",
    "for i in range(len(data[0])):\n",
    "    time = data[0][i]\n",
    "    record = data[1][i]\n",
    "    x = np.arange(time + 1)\n",
    "    y = x * (time - x)\n",
    "    ans *= (y > record).sum()"
   ]
  },
  {
   "cell_type": "code",
   "execution_count": 39,
   "id": "0aa8ef38-9416-463c-8ee9-32cb17212ca8",
   "metadata": {},
   "outputs": [
    {
     "data": {
      "text/plain": [
       "1084752"
      ]
     },
     "execution_count": 39,
     "metadata": {},
     "output_type": "execute_result"
    }
   ],
   "source": [
    "ans"
   ]
  },
  {
   "cell_type": "code",
   "execution_count": null,
   "id": "9d79db77-2835-48af-aa81-63ba1d26f75f",
   "metadata": {},
   "outputs": [],
   "source": []
  }
 ],
 "metadata": {
  "kernelspec": {
   "display_name": "Python 3 (ipykernel)",
   "language": "python",
   "name": "python3"
  },
  "language_info": {
   "codemirror_mode": {
    "name": "ipython",
    "version": 3
   },
   "file_extension": ".py",
   "mimetype": "text/x-python",
   "name": "python",
   "nbconvert_exporter": "python",
   "pygments_lexer": "ipython3",
   "version": "3.9.6"
  }
 },
 "nbformat": 4,
 "nbformat_minor": 5
}
