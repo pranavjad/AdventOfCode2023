{
 "cells": [
  {
   "cell_type": "code",
   "execution_count": 298,
   "id": "4d7d4696-8f09-4e1c-800d-44e6d83cbb05",
   "metadata": {},
   "outputs": [],
   "source": [
    "import pandas as pd\n",
    "import numpy as np"
   ]
  },
  {
   "cell_type": "code",
   "execution_count": 363,
   "id": "4e75c78c-f47c-49e9-806f-04d2b08e54a6",
   "metadata": {},
   "outputs": [],
   "source": [
    "df = pd.read_table(\"input.txt\", header=None)\n",
    "df.columns = [\"c1\"]\n",
    "m = df[\"c1\"].str.split(\"\", expand=True).to_numpy()[:, 1:-1]\n",
    "nextToSymbol = [[False for j in range(len(m[i]))] for i in range(len(m))]\n",
    "nums = [str(i) for i in range(10)]"
   ]
  },
  {
   "cell_type": "code",
   "execution_count": 364,
   "id": "28f911d7-3b8f-467f-a585-bb8588182030",
   "metadata": {},
   "outputs": [],
   "source": [
    "for i in range(len(m)):\n",
    "    for j in range(len(m[i])):\n",
    "        if m[i][j] != '.' and m[i][j] not in nums:\n",
    "            nextToSymbol[i][j] = True\n",
    "            if i > 0:\n",
    "                nextToSymbol[i - 1][j] = True\n",
    "            if i + 1 < len(m):\n",
    "                nextToSymbol[i + 1][j] = True\n",
    "            if j > 0:\n",
    "                nextToSymbol[i][j - 1] = True\n",
    "            if j + 1 < len(m[i]):\n",
    "                nextToSymbol[i][j + 1] = True\n",
    "            if i > 0 and j > 0:\n",
    "                nextToSymbol[i - 1][j - 1] = True\n",
    "            if i > 0 and j + 1 < len(m[i]):\n",
    "                nextToSymbol[i - 1][j + 1] = True\n",
    "            if i + 1 < len(m) and j > 0:\n",
    "                nextToSymbol[i + 1][j - 1] = True\n",
    "            if i + 1 < len(m) and j + 1 < len(m[i]):\n",
    "                nextToSymbol[i + 1][j + 1] = True\n"
   ]
  },
  {
   "cell_type": "code",
   "execution_count": 365,
   "id": "d53e23b0-4f0c-43cc-84fc-a03d0548dda4",
   "metadata": {},
   "outputs": [],
   "source": [
    "curNum = \"\"\n",
    "cur = False\n",
    "ans = 0\n",
    "for i in range(len(m)):\n",
    "    for j in range(len(m[i])):\n",
    "        if m[i][j] in nums:\n",
    "            cur |= nextToSymbol[i][j]\n",
    "            curNum += m[i][j]\n",
    "        else:\n",
    "            # print(curNum)\n",
    "            if cur:\n",
    "                # print(curNum)\n",
    "                # print(int(curNum))\n",
    "                ans += int(curNum)\n",
    "            cur = False\n",
    "            curNum = \"\"\n",
    "    if cur:\n",
    "        # print(curNum)\n",
    "        # print(int(curNum))\n",
    "        ans += int(curNum)\n",
    "        cur = False"
   ]
  },
  {
   "cell_type": "code",
   "execution_count": 366,
   "id": "181a897d-9746-41ad-8feb-1789ec873b04",
   "metadata": {},
   "outputs": [
    {
     "data": {
      "text/plain": [
       "527369"
      ]
     },
     "execution_count": 366,
     "metadata": {},
     "output_type": "execute_result"
    }
   ],
   "source": [
    "ans"
   ]
  },
  {
   "cell_type": "markdown",
   "id": "4da6f22b-dc8f-4ec0-8054-10f5179b04df",
   "metadata": {},
   "source": [
    "### Part 2"
   ]
  },
  {
   "cell_type": "code",
   "execution_count": 367,
   "id": "aeaf0047-3a99-423f-a760-53f193d3731e",
   "metadata": {},
   "outputs": [],
   "source": [
    "def buildNum(i, j):\n",
    "    # go to start of num\n",
    "    strnum = \"\"\n",
    "    # print(m[i][j] in nums)\n",
    "    assert m[i][j] in nums\n",
    "    while j >= 0 and (m[i][j] in nums):\n",
    "        # print(m[i][j], j)\n",
    "        j -= 1    \n",
    "    j += 1\n",
    "    while j + 1 <= len(m[i]) and m[i][j] in nums:\n",
    "        strnum += m[i][j]\n",
    "        j += 1\n",
    "    return int(strnum)"
   ]
  },
  {
   "cell_type": "code",
   "execution_count": 369,
   "id": "bb98f5fb-4008-4785-b214-0bc442f1bd51",
   "metadata": {},
   "outputs": [
    {
     "name": "stdout",
     "output_type": "stream",
     "text": [
      "ans:  73074886\n"
     ]
    }
   ],
   "source": [
    "ans = 0\n",
    "for i in range(len(m)):\n",
    "    for j in range(len(m[i])):\n",
    "        if m[i][j] == '*':\n",
    "            # print(i, j)\n",
    "            cnt = 0\n",
    "            adjnums = []\n",
    "            # check for number above\n",
    "            if i > 0:\n",
    "                if m[i - 1][j] in nums:\n",
    "                    cnt += 1\n",
    "                    adjnums += [buildNum(i - 1, j)]\n",
    "                else:\n",
    "                    if j > 0 and m[i - 1][j - 1] in nums:\n",
    "                        cnt += 1\n",
    "                        adjnums += [buildNum(i - 1, j - 1)]\n",
    "                    if j + 1 < len(m[i]) and m[i - 1][j + 1] in nums:\n",
    "                        cnt += 1\n",
    "                        adjnums += [buildNum(i - 1, j + 1)]\n",
    "            # check for number left\n",
    "            if j > 0 and m[i][j - 1] in nums:\n",
    "                cnt += 1\n",
    "                adjnums += [buildNum(i, j - 1)]\n",
    "            # check for number right\n",
    "            if j + 1 < len(m[i]) and m[i][j + 1] in nums:\n",
    "                cnt += 1\n",
    "                adjnums += [buildNum(i, j + 1)]\n",
    "            # check for number below\n",
    "            if i + 1 < len(m):\n",
    "                if m[i + 1][j] in nums:\n",
    "                    cnt += 1\n",
    "                    adjnums += [buildNum(i + 1, j)]\n",
    "                else:\n",
    "                    if j > 0 and m[i + 1][j - 1] in nums:\n",
    "                        cnt += 1\n",
    "                        adjnums += [buildNum(i + 1, j - 1)]\n",
    "                    if j + 1 < len(m[i]) and m[i + 1][j + 1] in nums:\n",
    "                        cnt += 1\n",
    "                        adjnums += [buildNum(i + 1, j + 1)]\n",
    "            # check if gear\n",
    "            if len(adjnums) == 2:\n",
    "                # print(i, j)\n",
    "                # print(adjnums)\n",
    "                ans += (adjnums[0] * adjnums[1])\n",
    "print(\"ans: \", ans)"
   ]
  },
  {
   "cell_type": "code",
   "execution_count": null,
   "id": "efad56df-7039-4889-ac7c-c1d11918bda4",
   "metadata": {},
   "outputs": [],
   "source": []
  }
 ],
 "metadata": {
  "kernelspec": {
   "display_name": "Python 3 (ipykernel)",
   "language": "python",
   "name": "python3"
  },
  "language_info": {
   "codemirror_mode": {
    "name": "ipython",
    "version": 3
   },
   "file_extension": ".py",
   "mimetype": "text/x-python",
   "name": "python",
   "nbconvert_exporter": "python",
   "pygments_lexer": "ipython3",
   "version": "3.9.6"
  }
 },
 "nbformat": 4,
 "nbformat_minor": 5
}
